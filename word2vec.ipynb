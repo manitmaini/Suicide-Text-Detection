{
  "nbformat": 4,
  "nbformat_minor": 0,
  "metadata": {
    "accelerator": "GPU",
    "colab": {
      "provenance": []
    },
    "kernelspec": {
      "display_name": "Python 3",
      "name": "python3"
    },
    "language_info": {
      "name": "python"
    }
  },
  "cells": [
    {
      "cell_type": "markdown",
      "metadata": {
        "id": "6GUbwjVfCunz"
      },
      "source": [
        "# Word2Vec\n",
        "This notebook aims to train word embeddings using the Word2Vec model."
      ]
    },
    {
      "cell_type": "code",
      "metadata": {
        "colab": {
          "base_uri": "https://localhost:8080/"
        },
        "id": "n_q3Y1Zc0s7F",
        "outputId": "4c722249-98d6-4a1f-95df-c4c73ccf4dab"
      },
      "source": [
        "from google.colab import drive\n",
        "drive.mount('/content/drive', force_remount=True)"
      ],
      "execution_count": null,
      "outputs": [
        {
          "output_type": "stream",
          "name": "stdout",
          "text": [
            "Mounted at /content/drive\n"
          ]
        }
      ]
    },
    {
      "cell_type": "code",
      "metadata": {
        "id": "IgRdNSJElABB"
      },
      "source": [
        "import pandas as pd\n",
        "import numpy as np\n",
        "import os\n",
        "\n",
        "from sklearn.model_selection import train_test_split\n",
        "from gensim.models import Word2Vec\n",
        "from time import time\n",
        "from collections import Counter"
      ],
      "execution_count": null,
      "outputs": []
    },
    {
      "cell_type": "code",
      "metadata": {
        "id": "rbqFqlVk26SP"
      },
      "source": [
        "SEED = 4222\n",
        "EPOCHS = 5"
      ],
      "execution_count": null,
      "outputs": []
    },
    {
      "cell_type": "code",
      "metadata": {
        "colab": {
          "base_uri": "https://localhost:8080/"
        },
        "id": "_ccDHJwJ7xqa",
        "outputId": "a4408e9f-e3f0-43cf-fefa-3d3f181a7c53"
      },
      "source": [
        "# Change to your own directory\n",
        "try: \n",
        "    os.chdir(\"/content/drive/MyDrive/Suicide Project\")\n",
        "    print(\"Directory changed\")\n",
        "except OSError:\n",
        "    print(\"Error: Can't change the Current Working Directory\")"
      ],
      "execution_count": null,
      "outputs": [
        {
          "output_type": "stream",
          "name": "stdout",
          "text": [
            "Directory changed\n"
          ]
        }
      ]
    },
    {
      "cell_type": "code",
      "metadata": {
        "id": "aJWPJjlKk194",
        "colab": {
          "base_uri": "https://localhost:8080/",
          "height": 424
        },
        "outputId": "efd2f7c4-5010-4195-d5c9-df77d4e25bce"
      },
      "source": [
        "# Load dataset and reset index\n",
        "suicide_detection_df = pd.read_csv('Data/suicide_detection_final_cleaned.csv', header=0)\n",
        "suicide_detection_df.reset_index(drop=True, inplace=True)\n",
        "suicide_detection_df.replace({\"class\": {\"suicide\": 1, \"non-suicide\": 0}}, inplace=True)\n",
        "suicide_detection_df.drop(columns=['text'], inplace=True)\n",
        "suicide_detection_df = suicide_detection_df.rename(columns={\"cleaned_text\": \"text\"})\n",
        "suicide_detection_df"
      ],
      "execution_count": null,
      "outputs": [
        {
          "output_type": "execute_result",
          "data": {
            "text/plain": [
              "        class                                               text\n",
              "0           1  sex wife threaten suicide recently leave wife ...\n",
              "1           0  weird not affect compliment come know girl fee...\n",
              "2           0      finally hear bad year swear fuck god annoying\n",
              "3           1                            need help help cry hard\n",
              "4           1                       end tonight not anymore quit\n",
              "...       ...                                                ...\n",
              "175821      0  today go sled friend not like pretty big miles...\n",
              "175822      0                               not like rock not go\n",
              "175823      0  tell friend not lonely deprive buy little nigh...\n",
              "175824      0  pee probably taste like salty tea drink pee co...\n",
              "175825      0  not beat boss hollow knight fight time die ear...\n",
              "\n",
              "[175826 rows x 2 columns]"
            ],
            "text/html": [
              "\n",
              "  <div id=\"df-f83eba99-e6ad-4b33-bdcd-c81ea2647065\">\n",
              "    <div class=\"colab-df-container\">\n",
              "      <div>\n",
              "<style scoped>\n",
              "    .dataframe tbody tr th:only-of-type {\n",
              "        vertical-align: middle;\n",
              "    }\n",
              "\n",
              "    .dataframe tbody tr th {\n",
              "        vertical-align: top;\n",
              "    }\n",
              "\n",
              "    .dataframe thead th {\n",
              "        text-align: right;\n",
              "    }\n",
              "</style>\n",
              "<table border=\"1\" class=\"dataframe\">\n",
              "  <thead>\n",
              "    <tr style=\"text-align: right;\">\n",
              "      <th></th>\n",
              "      <th>class</th>\n",
              "      <th>text</th>\n",
              "    </tr>\n",
              "  </thead>\n",
              "  <tbody>\n",
              "    <tr>\n",
              "      <th>0</th>\n",
              "      <td>1</td>\n",
              "      <td>sex wife threaten suicide recently leave wife ...</td>\n",
              "    </tr>\n",
              "    <tr>\n",
              "      <th>1</th>\n",
              "      <td>0</td>\n",
              "      <td>weird not affect compliment come know girl fee...</td>\n",
              "    </tr>\n",
              "    <tr>\n",
              "      <th>2</th>\n",
              "      <td>0</td>\n",
              "      <td>finally hear bad year swear fuck god annoying</td>\n",
              "    </tr>\n",
              "    <tr>\n",
              "      <th>3</th>\n",
              "      <td>1</td>\n",
              "      <td>need help help cry hard</td>\n",
              "    </tr>\n",
              "    <tr>\n",
              "      <th>4</th>\n",
              "      <td>1</td>\n",
              "      <td>end tonight not anymore quit</td>\n",
              "    </tr>\n",
              "    <tr>\n",
              "      <th>...</th>\n",
              "      <td>...</td>\n",
              "      <td>...</td>\n",
              "    </tr>\n",
              "    <tr>\n",
              "      <th>175821</th>\n",
              "      <td>0</td>\n",
              "      <td>today go sled friend not like pretty big miles...</td>\n",
              "    </tr>\n",
              "    <tr>\n",
              "      <th>175822</th>\n",
              "      <td>0</td>\n",
              "      <td>not like rock not go</td>\n",
              "    </tr>\n",
              "    <tr>\n",
              "      <th>175823</th>\n",
              "      <td>0</td>\n",
              "      <td>tell friend not lonely deprive buy little nigh...</td>\n",
              "    </tr>\n",
              "    <tr>\n",
              "      <th>175824</th>\n",
              "      <td>0</td>\n",
              "      <td>pee probably taste like salty tea drink pee co...</td>\n",
              "    </tr>\n",
              "    <tr>\n",
              "      <th>175825</th>\n",
              "      <td>0</td>\n",
              "      <td>not beat boss hollow knight fight time die ear...</td>\n",
              "    </tr>\n",
              "  </tbody>\n",
              "</table>\n",
              "<p>175826 rows × 2 columns</p>\n",
              "</div>\n",
              "      <button class=\"colab-df-convert\" onclick=\"convertToInteractive('df-f83eba99-e6ad-4b33-bdcd-c81ea2647065')\"\n",
              "              title=\"Convert this dataframe to an interactive table.\"\n",
              "              style=\"display:none;\">\n",
              "        \n",
              "  <svg xmlns=\"http://www.w3.org/2000/svg\" height=\"24px\"viewBox=\"0 0 24 24\"\n",
              "       width=\"24px\">\n",
              "    <path d=\"M0 0h24v24H0V0z\" fill=\"none\"/>\n",
              "    <path d=\"M18.56 5.44l.94 2.06.94-2.06 2.06-.94-2.06-.94-.94-2.06-.94 2.06-2.06.94zm-11 1L8.5 8.5l.94-2.06 2.06-.94-2.06-.94L8.5 2.5l-.94 2.06-2.06.94zm10 10l.94 2.06.94-2.06 2.06-.94-2.06-.94-.94-2.06-.94 2.06-2.06.94z\"/><path d=\"M17.41 7.96l-1.37-1.37c-.4-.4-.92-.59-1.43-.59-.52 0-1.04.2-1.43.59L10.3 9.45l-7.72 7.72c-.78.78-.78 2.05 0 2.83L4 21.41c.39.39.9.59 1.41.59.51 0 1.02-.2 1.41-.59l7.78-7.78 2.81-2.81c.8-.78.8-2.07 0-2.86zM5.41 20L4 18.59l7.72-7.72 1.47 1.35L5.41 20z\"/>\n",
              "  </svg>\n",
              "      </button>\n",
              "      \n",
              "  <style>\n",
              "    .colab-df-container {\n",
              "      display:flex;\n",
              "      flex-wrap:wrap;\n",
              "      gap: 12px;\n",
              "    }\n",
              "\n",
              "    .colab-df-convert {\n",
              "      background-color: #E8F0FE;\n",
              "      border: none;\n",
              "      border-radius: 50%;\n",
              "      cursor: pointer;\n",
              "      display: none;\n",
              "      fill: #1967D2;\n",
              "      height: 32px;\n",
              "      padding: 0 0 0 0;\n",
              "      width: 32px;\n",
              "    }\n",
              "\n",
              "    .colab-df-convert:hover {\n",
              "      background-color: #E2EBFA;\n",
              "      box-shadow: 0px 1px 2px rgba(60, 64, 67, 0.3), 0px 1px 3px 1px rgba(60, 64, 67, 0.15);\n",
              "      fill: #174EA6;\n",
              "    }\n",
              "\n",
              "    [theme=dark] .colab-df-convert {\n",
              "      background-color: #3B4455;\n",
              "      fill: #D2E3FC;\n",
              "    }\n",
              "\n",
              "    [theme=dark] .colab-df-convert:hover {\n",
              "      background-color: #434B5C;\n",
              "      box-shadow: 0px 1px 3px 1px rgba(0, 0, 0, 0.15);\n",
              "      filter: drop-shadow(0px 1px 2px rgba(0, 0, 0, 0.3));\n",
              "      fill: #FFFFFF;\n",
              "    }\n",
              "  </style>\n",
              "\n",
              "      <script>\n",
              "        const buttonEl =\n",
              "          document.querySelector('#df-f83eba99-e6ad-4b33-bdcd-c81ea2647065 button.colab-df-convert');\n",
              "        buttonEl.style.display =\n",
              "          google.colab.kernel.accessAllowed ? 'block' : 'none';\n",
              "\n",
              "        async function convertToInteractive(key) {\n",
              "          const element = document.querySelector('#df-f83eba99-e6ad-4b33-bdcd-c81ea2647065');\n",
              "          const dataTable =\n",
              "            await google.colab.kernel.invokeFunction('convertToInteractive',\n",
              "                                                     [key], {});\n",
              "          if (!dataTable) return;\n",
              "\n",
              "          const docLinkHtml = 'Like what you see? Visit the ' +\n",
              "            '<a target=\"_blank\" href=https://colab.research.google.com/notebooks/data_table.ipynb>data table notebook</a>'\n",
              "            + ' to learn more about interactive tables.';\n",
              "          element.innerHTML = '';\n",
              "          dataTable['output_type'] = 'display_data';\n",
              "          await google.colab.output.renderOutput(dataTable, element);\n",
              "          const docLink = document.createElement('div');\n",
              "          docLink.innerHTML = docLinkHtml;\n",
              "          element.appendChild(docLink);\n",
              "        }\n",
              "      </script>\n",
              "    </div>\n",
              "  </div>\n",
              "  "
            ]
          },
          "metadata": {},
          "execution_count": 5
        }
      ]
    },
    {
      "cell_type": "code",
      "metadata": {
        "id": "a3mECsTh9rBR"
      },
      "source": [
        "# Split dataset into train, validation and test sets\n",
        "train_text, test_text, train_labels, test_labels = train_test_split(suicide_detection_df['text'], suicide_detection_df['class'],\n",
        "                                                                    random_state=SEED,\n",
        "                                                                    test_size=0.2,\n",
        "                                                                    stratify=suicide_detection_df['class'])"
      ],
      "execution_count": null,
      "outputs": []
    },
    {
      "cell_type": "markdown",
      "metadata": {
        "id": "0RUk2ExVLkMf"
      },
      "source": [
        "# word2vec"
      ]
    },
    {
      "cell_type": "markdown",
      "metadata": {
        "id": "rGSa7hfBfnfQ"
      },
      "source": [
        "### Building a vocab"
      ]
    },
    {
      "cell_type": "code",
      "metadata": {
        "colab": {
          "base_uri": "https://localhost:8080/"
        },
        "id": "vPtCt8X_xcky",
        "outputId": "beb4ac12-573b-4d8f-b0f2-8da6b9a33d19"
      },
      "source": [
        "# define vocab \n",
        "vocab = Counter()\n",
        "# tokenise each sentence\n",
        "tokens_list = [(s.split()) for s in train_text]\n",
        "# add each sentence to vocab\n",
        "for i in tokens_list:\n",
        "  vocab.update(i)\n",
        "# removing words with a low occurance\n",
        "min_occurance = 2\n",
        "tokens = [k for k,c in vocab.items() if c >= min_occurance]\n",
        "print(len(tokens))"
      ],
      "execution_count": null,
      "outputs": [
        {
          "output_type": "stream",
          "name": "stdout",
          "text": [
            "18976\n"
          ]
        }
      ]
    },
    {
      "cell_type": "code",
      "metadata": {
        "id": "QLGQTB_JyoCI"
      },
      "source": [
        "# save list to file\n",
        "def save_list(lines, filename):\n",
        "\t# convert lines to a single blob of text\n",
        "\tdata = '\\n'.join(lines)\n",
        "\t# open file\n",
        "\tfile = open(filename, 'w')\n",
        "\t# write text\n",
        "\tfile.write(data)\n",
        "\t# close file\n",
        "\tfile.close()\n",
        " \n",
        "# save tokens to a vocabulary file\n",
        "save_list(vocab, 'Data/vocab.txt')"
      ],
      "execution_count": null,
      "outputs": []
    },
    {
      "cell_type": "code",
      "metadata": {
        "id": "TOnKl1mBvfCi"
      },
      "source": [
        "# load doc into memory\n",
        "def load_doc(filename):\n",
        "\t# open the file as read only\n",
        "\tfile = open(filename, 'r')\n",
        "\t# read all text\n",
        "\ttext = file.read()\n",
        "\t# close the file\n",
        "\tfile.close()\n",
        "\treturn text\n",
        "\n",
        "# load the vocabulary\n",
        "vocab_filename = 'Data/vocab.txt'\n",
        "vocab = load_doc(vocab_filename)\n",
        "vocab = vocab.split()\n",
        "vocab = set(vocab)"
      ],
      "execution_count": null,
      "outputs": []
    },
    {
      "cell_type": "markdown",
      "metadata": {
        "id": "L0Zaq3_Ef0zf"
      },
      "source": [
        "### Removing out-of-vocab words"
      ]
    },
    {
      "cell_type": "code",
      "metadata": {
        "id": "0FVpj2Rvj6_N"
      },
      "source": [
        "# clean each line\n",
        "def clean_line(line, vocab):\n",
        "  tokens = line.split()\n",
        "  # filter out tokens not in vocab\n",
        "  tokens_clean = [w for w in tokens if w in vocab]\n",
        "  return [tokens_clean]\n",
        "\n",
        "# clean entire dataset\n",
        "def process_lines(data, vocab):\n",
        "  lines = list()\n",
        "  for i in data:\n",
        "    line = clean_line(i, vocab)\n",
        "    # add lines to list\n",
        "    lines += line\n",
        "  return lines"
      ],
      "execution_count": null,
      "outputs": []
    },
    {
      "cell_type": "code",
      "metadata": {
        "id": "sZRXebQuOEnP"
      },
      "source": [
        "train_clean = process_lines(train_text, vocab)\n",
        "test_clean = process_lines(test_text, vocab)"
      ],
      "execution_count": null,
      "outputs": []
    },
    {
      "cell_type": "markdown",
      "metadata": {
        "id": "MMVzj2W4XLi1"
      },
      "source": [
        "### Training the model"
      ]
    },
    {
      "cell_type": "code",
      "metadata": {
        "colab": {
          "base_uri": "https://localhost:8080/"
        },
        "id": "629baldM_LKc",
        "outputId": "534cc95e-62ba-4e1a-862a-a352a412011d"
      },
      "source": [
        "# set up the parameters of the model\n",
        "model = Word2Vec(size=300, window=10, min_count=1, iter=EPOCHS, seed=SEED)\n",
        "\n",
        "# it builds the vocabulary from a sequence of sentences and thus initialized the model.\n",
        "t = time()\n",
        "model.build_vocab(train_clean, progress_per=1000)\n",
        "print('Time to build vocab: {} mins'.format(round((time() - t) / 60, 2)))\n",
        "\n",
        "# training the model\n",
        "t = time()\n",
        "model.train(train_clean, total_examples=model.corpus_count, epochs=EPOCHS, report_delay=1)\n",
        "print('Time to train the model: {} mins'.format(round((time() - t) / 60, 2)))"
      ],
      "execution_count": null,
      "outputs": [
        {
          "output_type": "stream",
          "name": "stdout",
          "text": [
            "Time to build vocab: 0.1 mins\n",
            "Time to train the model: 0.48 mins\n"
          ]
        }
      ]
    },
    {
      "cell_type": "code",
      "metadata": {
        "id": "0Mng2Jq0owLc"
      },
      "source": [
        "# save model in ASCII (word2vec) format\n",
        "filename = 'Data/embedding_word2vec.txt'\n",
        "model.wv.save_word2vec_format(filename, binary=False)"
      ],
      "execution_count": null,
      "outputs": []
    },
    {
      "cell_type": "code",
      "metadata": {
        "id": "axf16TDur01v",
        "colab": {
          "base_uri": "https://localhost:8080/"
        },
        "outputId": "c28e6b0f-61a8-4e0a-f064-8a2337f24067"
      },
      "source": [
        "model.most_similar('suicide')"
      ],
      "execution_count": null,
      "outputs": [
        {
          "output_type": "stream",
          "name": "stderr",
          "text": [
            "/usr/local/lib/python3.7/dist-packages/ipykernel_launcher.py:1: DeprecationWarning: Call to deprecated `most_similar` (Method will be removed in 4.0.0, use self.wv.most_similar() instead).\n",
            "  \"\"\"Entry point for launching an IPython kernel.\n"
          ]
        },
        {
          "output_type": "execute_result",
          "data": {
            "text/plain": [
              "[('fuckfuckfuckfuckfuckfuckfuckfuckfuckfuckfuckfuckfuckfuckfuckfuckfuckfuckfuckfuckfuckfuckfuckfuckfuckfuckfuckfuckfuckfuckfuckfuckfuckfuckfuckfuckfuckfuckfuckfuckfuckfuckfuckfuckfuckfuckfuckfuckfuckfuckfuckfuckfuckfuckfuckfuckfuckfuckfuckfuckfuckfuckfuckfuckfuckfuckfuckfuckfuckfuckfuckfuckfuckfuckfuckfuckfuckfuckfuckfuckfuckfuckfuckfuckfuckfuck',\n",
              "  0.6765413284301758),\n",
              " ('involuntarily', 0.6074830889701843),\n",
              " ('hgsdjasoihatelifegdbhsjjnhdgskjlkvfdhkj', 0.5798487663269043),\n",
              " ('unsuccessful', 0.5626609325408936),\n",
              " ('puerile', 0.55591881275177),\n",
              " ('undisturbed', 0.5514452457427979),\n",
              " ('sponsored', 0.5487806797027588),\n",
              " ('executioner', 0.5226049423217773),\n",
              " ('arson', 0.516645610332489),\n",
              " ('catered', 0.5162341594696045)]"
            ]
          },
          "metadata": {},
          "execution_count": 14
        }
      ]
    }
  ]
}